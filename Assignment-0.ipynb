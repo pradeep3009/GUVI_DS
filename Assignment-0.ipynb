{
 "cells": [
  {
   "cell_type": "code",
   "execution_count": 1,
   "id": "9ac42561",
   "metadata": {},
   "outputs": [
    {
     "name": "stdout",
     "output_type": "stream",
     "text": [
      "Enter the number\n",
      "3\n",
      "3 is Odd\n"
     ]
    }
   ],
   "source": [
    "print(\"Enter the number\")\n",
    "a=int(input())\n",
    "if a%2 == 0:\n",
    "    print(a,\"is Even\")\n",
    "else:\n",
    "    print(a,\"is Odd\")\n"
   ]
  },
  {
   "cell_type": "code",
   "execution_count": 2,
   "id": "d2f498ad",
   "metadata": {},
   "outputs": [
    {
     "name": "stdout",
     "output_type": "stream",
     "text": [
      "Enter the temperature in Centigrade : -9.8\n",
      "The temperature in Fahrenheit is 14.36\n"
     ]
    }
   ],
   "source": [
    "a=float(input(\"Enter the temperature in Centigrade : \"))\n",
    "f=(a*1.8)+32\n",
    "print(\"The temperature in Fahrenheit is\",f)\n"
   ]
  },
  {
   "cell_type": "code",
   "execution_count": 3,
   "id": "8d7d2c8e",
   "metadata": {},
   "outputs": [
    {
     "name": "stdout",
     "output_type": "stream",
     "text": [
      "Enter how many numbers to be multiplied :3\n",
      "Enter the number to be multiplied :2\n",
      "Enter the number to be multiplied :4\n",
      "Enter the number to be multiplied :6\n",
      "The product of set of real number is  48.0\n"
     ]
    }
   ],
   "source": [
    "a = int(input(\"Enter how many numbers to be multiplied :\"))\n",
    "b=1 #we cant declare in loop\n",
    "for i in range (a):\n",
    "    x=float(input(\"Enter the number to be multiplied :\"))#it can be a float since it is real number\n",
    "    b=b*x\n",
    "print(\"The product of set of real number is \",b)"
   ]
  },
  {
   "cell_type": "code",
   "execution_count": 4,
   "id": "712d834d",
   "metadata": {},
   "outputs": [
    {
     "name": "stdout",
     "output_type": "stream",
     "text": [
      "Enter the number : 4\n",
      "The factorail of 4 is 24\n"
     ]
    }
   ],
   "source": [
    "def factorial(n):\n",
    "    if n == 1:\n",
    "        return n\n",
    "    else:\n",
    "        return n*factorial(n-1)#factorail (n-1) will be in loop until the value returns 1\n",
    "a = int(input(\"Enter the number : \"))#we can't use float\n",
    "if a<0:\n",
    "    print(\"We can't find factorial for negative integer\")\n",
    "elif a==0:\n",
    "    print(\"The factorial of 0 is 1\")\n",
    "else:\n",
    "    b=factorial(a)\n",
    "    print(\"The factorail of\",a,\"is\",b)"
   ]
  },
  {
   "cell_type": "code",
   "execution_count": 5,
   "id": "8fbca26c",
   "metadata": {},
   "outputs": [
    {
     "name": "stdout",
     "output_type": "stream",
     "text": [
      "Element to be found in list: p\n",
      "The element p is at index position 5\n"
     ]
    }
   ],
   "source": [
    "a=['a','e','i','o','u','p']\n",
    "b=input(\"Element to be found in list: \")\n",
    "c=len(a)\n",
    "if b not in (a):\n",
    "    print(\"Element not present in list\")\n",
    "else:\n",
    "    for i in range (0,c):\n",
    "        if b==a[i]:\n",
    "            print(\"The element\",b,\"is at index position\",i)"
   ]
  },
  {
   "cell_type": "code",
   "execution_count": 6,
   "id": "3b8efe23",
   "metadata": {},
   "outputs": [
    {
     "name": "stdout",
     "output_type": "stream",
     "text": [
      "List ofter sorting [7, 12, 32, 45, 76, 87, 98, 100]\n",
      "Enter the element to be searched : 5\n",
      "Element not found in the list\n"
     ]
    }
   ],
   "source": [
    "a=[98,100,45,76,32,87,12,7]\n",
    "a.sort()\n",
    "print(\"List ofter sorting\",a)\n",
    "b=int(input(\"Enter the element to be searched : \"))\n",
    "i=0#index starting position\n",
    "j=(len(a)-1)#index ending position\n",
    "while(i<=j):\n",
    "    x=(i+j)//2\n",
    "    if b==a[x]:\n",
    "        print(\"Element found at index position\",x)\n",
    "        break\n",
    "    elif(b<a[x]):\n",
    "        j=x-1\n",
    "    else:\n",
    "        i=x+1\n",
    "else:\n",
    "    print(\"Element not found in the list\")"
   ]
  },
  {
   "cell_type": "code",
   "execution_count": 7,
   "id": "1671e4ea",
   "metadata": {},
   "outputs": [
    {
     "name": "stdout",
     "output_type": "stream",
     "text": [
      "How many elements do you want in list4\n",
      "Enter the numbers in list\n",
      "3\n",
      "5\n",
      "1\n",
      "0\n",
      "The largest number in list is 5\n"
     ]
    }
   ],
   "source": [
    "list = []\n",
    "a = int(input(\"How many elements do you want in list\"))\n",
    "\n",
    "print(\"Enter the numbers in list\")#if all number are negative we need to use min function\n",
    "\n",
    "for i in range(a):\n",
    "    x = int(input())\n",
    "    list.append(x)\n",
    "\n",
    "b = 0#If all numbers are positive we can declare b=0.\n",
    "for x in list:\n",
    "    if x > b:\n",
    "        b = x\n",
    "\n",
    "print(\"The largest number in list is\", b)\n"
   ]
  },
  {
   "cell_type": "code",
   "execution_count": 8,
   "id": "df10d764",
   "metadata": {},
   "outputs": [
    {
     "name": "stdout",
     "output_type": "stream",
     "text": [
      "Enter how many elements need to be in list 3\n",
      "q\n",
      "e\n",
      "r\n",
      "['q', 'e', 'r']\n",
      "Enter the index number in a list to be removed 2\n",
      "The element present in index 2 is r\n",
      "The new list is ['q', 'e']\n"
     ]
    }
   ],
   "source": [
    "list = []\n",
    "a = int(input(\"Enter how many elements need to be in list \"))\n",
    "for i in range (a):\n",
    "    x=input()\n",
    "    list.append(x)\n",
    "print(list)\n",
    "b = int(input(\"Enter the index number in a list to be removed \"))\n",
    "if b<=(a-1):\n",
    "    print(\"The element present in index\",b,\"is\",list.pop(b))\n",
    "    print(\"The new list is\",list)\n",
    "else:\n",
    "    print(\"index range doesnot exits\")"
   ]
  },
  {
   "cell_type": "code",
   "execution_count": 9,
   "id": "e3fc1b7e",
   "metadata": {},
   "outputs": [
    {
     "data": {
      "text/plain": [
       "dict_items([('Name', 'Pradeep'), ('age', 24), ('mail id', 'pradeep@gmail.com'), ('address', 'chennai')])"
      ]
     },
     "execution_count": 9,
     "metadata": {},
     "output_type": "execute_result"
    }
   ],
   "source": [
    "a={\n",
    "    \"Name\":\"Pradeep\",\n",
    "    \"age\":24,\n",
    "    \"mail id\":\"pradeep@gmail.com\",\n",
    "    \"address\":\"chennai\"    \n",
    "    }\n",
    "dict.items(a)"
   ]
  },
  {
   "cell_type": "code",
   "execution_count": 10,
   "id": "6d040097",
   "metadata": {},
   "outputs": [
    {
     "name": "stdout",
     "output_type": "stream",
     "text": [
      "Enter how many elements need to be in list 3\n",
      "Enter element in list: 1\n",
      "Enter element in list: 2\n",
      "Enter element in list: 3\n",
      "The average of numbers is 2.0\n"
     ]
    }
   ],
   "source": [
    "list = []\n",
    "a = int(input(\"Enter how many elements need to be in list \"))\n",
    "for i in range (a):\n",
    "    x=int(input(\"Enter element in list: \"))\n",
    "    list.append(x)\n",
    "i=0\n",
    "j=0\n",
    "while i<a:\n",
    "    j=j+list[i]\n",
    "    i+=1\n",
    "print(\"The average of numbers is\",j/a)"
   ]
  },
  {
   "cell_type": "code",
   "execution_count": null,
   "id": "9df57a63",
   "metadata": {},
   "outputs": [],
   "source": []
  }
 ],
 "metadata": {
  "kernelspec": {
   "display_name": "Python 3 (ipykernel)",
   "language": "python",
   "name": "python3"
  },
  "language_info": {
   "codemirror_mode": {
    "name": "ipython",
    "version": 3
   },
   "file_extension": ".py",
   "mimetype": "text/x-python",
   "name": "python",
   "nbconvert_exporter": "python",
   "pygments_lexer": "ipython3",
   "version": "3.9.7"
  }
 },
 "nbformat": 4,
 "nbformat_minor": 5
}
